{
  "nbformat": 4,
  "nbformat_minor": 0,
  "metadata": {
    "colab": {
      "name": "Evaluate_text.ipynb",
      "provenance": [],
      "collapsed_sections": [],
      "include_colab_link": true
    },
    "kernelspec": {
      "name": "python3",
      "display_name": "Python 3"
    },
    "accelerator": "GPU"
  },
  "cells": [
    {
      "cell_type": "markdown",
      "metadata": {
        "id": "view-in-github",
        "colab_type": "text"
      },
      "source": [
        "<a href=\"https://colab.research.google.com/github/HajarGhizlaneML/machine_learning_project/blob/master/Evaluate_text.ipynb\" target=\"_parent\"><img src=\"https://colab.research.google.com/assets/colab-badge.svg\" alt=\"Open In Colab\"/></a>"
      ]
    },
    {
      "cell_type": "markdown",
      "metadata": {
        "id": "34-y1jhAlj6J",
        "colab_type": "text"
      },
      "source": [
        "### Evaluate my text\n",
        "Maintenant que le méthode de décodage est définie, nous pouvons écrire des fonctions pour évaluer une phrase d'entrée. **evaluatefonction** gère le processus de bas niveau de gestion de la phrase d'entrée. Nous formaterons d'abord la phrase comme un lot d'entrée d'index de mots avec batch_size == 1 . Pour cela, nous convertissons les mots de la phrase en leurs index correspondants et transposons les dimensions pour préparer le tenseur pour le modèle. Nous créons également un lengthstenseur qui contient la longueur de la phrase d'entrée. Dans ce cas, lengths est scalaire car nous n'évaluons qu'une seule phrase à la fois (batch_size == 1). Ensuite, nous obtenons le tenseur de phrase de réponse décodé en utilisant **GreedySearchDecoder** ( searcher). Enfin, nous convertissons les index de la réponse en mots et retournons la liste des mots décodés.\n",
        "\n",
        "**evaluateInputagit** est comme une interface utilisateur pour le chatbot. Lorsqu'il est appelé, un champ de texte apparaîtra dans lequel nous pouvons saisir notre phrase de requête. Après avoir tapé la phrase d'entrée et appuyé sur Entrée , le texte est normalisé de la même manière que le training data, et transmis à la **evaluatefonction** pour obtenir une phrase de sortie décodée. Nous bouclons ce processus, afin que nous puissions continuer à discuter avec le bot jusqu'à ce que nous entrions «q» ou «quit».\n",
        "\n",
        "Enfin, si un input qui contient un mot qui n'est pas dans le vocabulaire, nous gérons cela en envoyant un message d'erreur et en invitant l'utilisateur à entrer une autre phrase."
      ]
    },
    {
      "cell_type": "code",
      "metadata": {
        "id": "FyeqtzLMI4e8",
        "colab_type": "code",
        "colab": {}
      },
      "source": [
        "def evaluate(encoder, decoder, searcher, voc, sentence, max_length=MAX_LENGTH):\n",
        "    ### Format input sentence as a batch\n",
        "    # words -> indexes\n",
        "    indexes_batch = [indexesFromSentence(voc, sentence)]\n",
        "    # Create lengths tensor\n",
        "    lengths = torch.tensor([len(indexes) for indexes in indexes_batch])\n",
        "    # Transpose dimensions of batch to match models' expectations\n",
        "    input_batch = torch.LongTensor(indexes_batch).transpose(0, 1)\n",
        "    # Use appropriate device\n",
        "    input_batch = input_batch.to(device)\n",
        "    lengths = lengths.to(device)\n",
        "    # Decode sentence with searcher\n",
        "    tokens, scores = searcher(input_batch, lengths, max_length)\n",
        "    # indexes -> words\n",
        "    decoded_words = [voc.index2word[token.item()] for token in tokens]\n",
        "    return decoded_words\n",
        "\n",
        "\n",
        "def evaluateInput(encoder, decoder, searcher, voc):\n",
        "    input_sentence = ''\n",
        "    while(1):\n",
        "        try:\n",
        "            # Get input sentence\n",
        "            input_sentence = input('> ')\n",
        "            # Check if it is quit case\n",
        "            if input_sentence == 'q' or input_sentence == 'quit': break\n",
        "            # Normalize sentence\n",
        "            input_sentence = normalizeString(input_sentence)\n",
        "            # Evaluate sentence\n",
        "            output_words = evaluate(encoder, decoder, searcher, voc, input_sentence)\n",
        "            # Format and print response sentence\n",
        "            output_words[:] = [x for x in output_words if not (x == 'EOS' or x == 'PAD')]\n",
        "            print('Bot:', ' '.join(output_words))\n",
        "\n",
        "        except KeyError:\n",
        "            print(\"Error: Encountered unknown word.\")"
      ],
      "execution_count": 0,
      "outputs": []
    }
  ]
}